{
 "cells": [
  {
   "cell_type": "code",
   "execution_count": 1,
   "id": "d7c36023-a8ee-4550-8107-789c86fa77b6",
   "metadata": {},
   "outputs": [],
   "source": [
    "import os\n",
    "os.environ[\"TF_CPP_MIN_LOG_LEVEL\"] = \"2\""
   ]
  },
  {
   "cell_type": "code",
   "execution_count": 2,
   "id": "d91d4feb-b8cb-4d53-9c6d-ab911bcae87c",
   "metadata": {},
   "outputs": [],
   "source": [
    "import tensorflow as tf\n",
    "from tensorflow import keras\n",
    "from tensorflow.keras import layers\n",
    "from tensorflow.keras.datasets import mnist"
   ]
  },
  {
   "cell_type": "code",
   "execution_count": 3,
   "id": "3fcb585b-8623-4aea-ad77-6e23351aec5e",
   "metadata": {},
   "outputs": [],
   "source": [
    "# To Avoid GPU errors\n",
    "physical_devices = tf.config.list_physical_devices(\"GPU\")\n",
    "tf.config.experimental.set_memory_growth(physical_devices[0], True)"
   ]
  },
  {
   "cell_type": "code",
   "execution_count": 4,
   "id": "24f28dc6-95c2-4ce1-b63e-2206e80dd1e1",
   "metadata": {},
   "outputs": [],
   "source": [
    "(x_train, y_train), (x_test, y_test) = mnist.load_data()\n",
    "x_train = x_train.reshape(-1, 28 * 28).astype(\"float32\") / 255.0\n",
    "x_test = x_test.reshape(-1, 28 * 28).astype(\"float32\") / 255.0"
   ]
  },
  {
   "cell_type": "code",
   "execution_count": 5,
   "id": "6898baba-9735-4acf-b42a-6590505502bb",
   "metadata": {},
   "outputs": [],
   "source": [
    "# Alright, so here have some code which should feel familiar from previous tutorials,\n",
    "# here is what we want to cover\n",
    "# 1. How to save and load model weights\n",
    "# 2. Save and loading entire model (Serializing model)\n",
    "#   - Saves weights\n",
    "#   - Model architecture\n",
    "#   - Training Configuration (model.compile())\n",
    "#   - Optimizer and states"
   ]
  },
  {
   "cell_type": "code",
   "execution_count": 6,
   "id": "c2c56c8b-4b25-45da-9f50-5c38e92d7b5b",
   "metadata": {},
   "outputs": [],
   "source": [
    "model1 = keras.Sequential([layers.Dense(64, activation=\"relu\"), layers.Dense(10)])"
   ]
  },
  {
   "cell_type": "code",
   "execution_count": 7,
   "id": "4ed1569c-e2d4-4b94-a9e3-a63d3fe4dfa9",
   "metadata": {},
   "outputs": [],
   "source": [
    "inputs = keras.Input(784)\n",
    "x = layers.Dense(64, activation=\"relu\")(inputs)\n",
    "outputs = layers.Dense(10)(x)\n",
    "model2 = keras.Model(inputs=inputs, outputs=outputs)"
   ]
  },
  {
   "cell_type": "code",
   "execution_count": 9,
   "id": "5bf8fe62-b4b1-4177-8e18-86a58a49a79f",
   "metadata": {},
   "outputs": [],
   "source": [
    "class MyModel(keras.Model):\n",
    "    def __init__(self):\n",
    "        super(MyModel, self).__init__()\n",
    "        self.dense1 = layers.Dense(64, activation=\"relu\")\n",
    "        self.dense2 = layers.Dense(10)\n",
    "\n",
    "    def call(self, input_tensor):\n",
    "        x = tf.nn.relu(self.dense1(input_tensor))\n",
    "        return self.dense2(x)\n",
    "        \n",
    "# SavedModel format or HDF5 format\n",
    "model3 = MyModel()"
   ]
  },
  {
   "cell_type": "code",
   "execution_count": 10,
   "id": "3d2d3754-1225-4726-81e0-f10605bbe90d",
   "metadata": {},
   "outputs": [],
   "source": [
    "# model = keras.models.load_model('models/saved_model/')\n",
    "# model.load_weights('checkpoint_folder/')"
   ]
  },
  {
   "cell_type": "code",
   "execution_count": 12,
   "id": "004bcc98-6a10-495e-a7ea-bf39c2d1b69c",
   "metadata": {},
   "outputs": [],
   "source": [
    "model = model1"
   ]
  },
  {
   "cell_type": "code",
   "execution_count": 13,
   "id": "10c80f1c-8fc9-494b-b8ed-9a84b63f5163",
   "metadata": {},
   "outputs": [],
   "source": [
    "model.compile(\n",
    "    loss=keras.losses.SparseCategoricalCrossentropy(from_logits=True),\n",
    "    optimizer=keras.optimizers.Adam(),\n",
    "    metrics=[\"accuracy\"],\n",
    ")"
   ]
  },
  {
   "cell_type": "code",
   "execution_count": 14,
   "id": "433e3f80-da89-4cf1-aa81-4dd772f513bd",
   "metadata": {},
   "outputs": [
    {
     "name": "stdout",
     "output_type": "stream",
     "text": [
      "Epoch 1/2\n",
      "1875/1875 - 6s - loss: 0.3056 - accuracy: 0.9121 - 6s/epoch - 3ms/step\n",
      "Epoch 2/2\n",
      "1875/1875 - 4s - loss: 0.1473 - accuracy: 0.9574 - 4s/epoch - 2ms/step\n",
      "313/313 - 1s - loss: 0.1235 - accuracy: 0.9637 - 820ms/epoch - 3ms/step\n"
     ]
    },
    {
     "data": {
      "text/plain": [
       "[0.12354544550180435, 0.963699996471405]"
      ]
     },
     "execution_count": 14,
     "metadata": {},
     "output_type": "execute_result"
    }
   ],
   "source": [
    "model.fit(x_train, y_train, batch_size=32, epochs=2, verbose=2)\n",
    "model.evaluate(x_test, y_test, batch_size=32, verbose=2)"
   ]
  },
  {
   "cell_type": "code",
   "execution_count": 15,
   "id": "5b3b6c77-cf3f-4907-a29f-f0bd9a4b3e7d",
   "metadata": {},
   "outputs": [
    {
     "name": "stdout",
     "output_type": "stream",
     "text": [
      "INFO:tensorflow:Assets written to: models/saved_model/assets\n"
     ]
    }
   ],
   "source": [
    "# model.save_weights('checkpoint_folder/')\n",
    "model.save(\"models/saved_model/\")"
   ]
  },
  {
   "cell_type": "markdown",
   "id": "6f891bc2-cd30-47c2-aa87-5a635298761d",
   "metadata": {},
   "source": [
    "**Note:** When saving model weights, we need to use same method of defining model architecture."
   ]
  },
  {
   "cell_type": "code",
   "execution_count": null,
   "id": "5abb3683-9909-4b72-8ee6-0595a0ea5979",
   "metadata": {},
   "outputs": [],
   "source": []
  }
 ],
 "metadata": {
  "kernelspec": {
   "display_name": "Python 3 (ipykernel)",
   "language": "python",
   "name": "python3"
  },
  "language_info": {
   "codemirror_mode": {
    "name": "ipython",
    "version": 3
   },
   "file_extension": ".py",
   "mimetype": "text/x-python",
   "name": "python",
   "nbconvert_exporter": "python",
   "pygments_lexer": "ipython3",
   "version": "3.9.0"
  }
 },
 "nbformat": 4,
 "nbformat_minor": 5
}

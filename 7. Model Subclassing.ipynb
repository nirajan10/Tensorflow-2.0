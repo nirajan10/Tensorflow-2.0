{
 "cells": [
  {
   "cell_type": "code",
   "execution_count": 1,
   "id": "d67fb869-c288-4abc-967f-f787e2a3dcd2",
   "metadata": {},
   "outputs": [],
   "source": [
    "import os\n",
    "os.environ['TF_CPP_MIN_LOG_LEVEL'] = '2'"
   ]
  },
  {
   "cell_type": "code",
   "execution_count": 2,
   "id": "ba194068-bf53-4226-9c6a-928bb0605ea1",
   "metadata": {},
   "outputs": [],
   "source": [
    "import tensorflow as tf\n",
    "from tensorflow import keras\n",
    "from tensorflow.keras import layers\n",
    "from tensorflow.keras.datasets import mnist"
   ]
  },
  {
   "cell_type": "code",
   "execution_count": 3,
   "id": "3f1c757d-bcd5-4cf8-9bbc-209c01eb7559",
   "metadata": {},
   "outputs": [],
   "source": [
    "physical_devices = tf.config.list_physical_devices('GPU')\n",
    "tf.config.experimental.set_memory_growth(physical_devices[0], True)"
   ]
  },
  {
   "cell_type": "code",
   "execution_count": 4,
   "id": "7671a40c-7dea-457a-ac07-05e6355d406c",
   "metadata": {},
   "outputs": [],
   "source": [
    "(X_train, y_train), (X_test, y_test) = mnist.load_data()"
   ]
  },
  {
   "cell_type": "code",
   "execution_count": 5,
   "id": "bb3a9d82-5096-4ea0-be48-6c1a78841be6",
   "metadata": {},
   "outputs": [],
   "source": [
    "X_train = X_train.astype('float32') / 255.0\n",
    "X_test = X_test.astype('float32') / 255.0"
   ]
  },
  {
   "cell_type": "code",
   "execution_count": 6,
   "id": "daae74dd-9721-4de1-90bf-f8311b9e0c68",
   "metadata": {},
   "outputs": [
    {
     "data": {
      "text/plain": [
       "(60000, 28, 28)"
      ]
     },
     "execution_count": 6,
     "metadata": {},
     "output_type": "execute_result"
    }
   ],
   "source": [
    "X_train.shape"
   ]
  },
  {
   "cell_type": "code",
   "execution_count": 7,
   "id": "4f4572be-e024-4bd8-936d-ba4456128b5c",
   "metadata": {},
   "outputs": [],
   "source": [
    "class CNNBlock(layers.Layer):\n",
    "    def __init__(self, output_channels, kernel_size=3):\n",
    "        super(CNNBlock, self).__init__()\n",
    "        self.conv = layers.Conv2D(output_channels, kernel_size, padding='same')\n",
    "        self.bn = layers.BatchNormalization()\n",
    "\n",
    "    def call(self, input, training=False):\n",
    "        x = self.conv(input)\n",
    "        x = self.bn(x, training=training)\n",
    "        x = tf.keras.activations.relu(x)\n",
    "        return x"
   ]
  },
  {
   "cell_type": "code",
   "execution_count": 8,
   "id": "539ee6e4-99f6-4401-b26a-3484689490c2",
   "metadata": {},
   "outputs": [],
   "source": [
    "model = keras.Sequential(\n",
    "    [\n",
    "        layers.Input((28,28,1)),\n",
    "        CNNBlock(32),\n",
    "        layers.MaxPooling2D(),\n",
    "        CNNBlock(64),\n",
    "        layers.MaxPooling2D(),\n",
    "        CNNBlock(128),\n",
    "        layers.Flatten(),\n",
    "        layers.Dense(10)\n",
    "    ]\n",
    ")"
   ]
  },
  {
   "cell_type": "code",
   "execution_count": 9,
   "id": "a83c5f45-e686-471d-b5ae-842402615617",
   "metadata": {},
   "outputs": [
    {
     "name": "stdout",
     "output_type": "stream",
     "text": [
      "Model: \"sequential\"\n",
      "_________________________________________________________________\n",
      " Layer (type)                Output Shape              Param #   \n",
      "=================================================================\n",
      " cnn_block (CNNBlock)        (None, 28, 28, 32)        448       \n",
      "                                                                 \n",
      " max_pooling2d (MaxPooling2D  (None, 14, 14, 32)       0         \n",
      " )                                                               \n",
      "                                                                 \n",
      " cnn_block_1 (CNNBlock)      (None, 14, 14, 64)        18752     \n",
      "                                                                 \n",
      " max_pooling2d_1 (MaxPooling  (None, 7, 7, 64)         0         \n",
      " 2D)                                                             \n",
      "                                                                 \n",
      " cnn_block_2 (CNNBlock)      (None, 7, 7, 128)         74368     \n",
      "                                                                 \n",
      " flatten (Flatten)           (None, 6272)              0         \n",
      "                                                                 \n",
      " dense (Dense)               (None, 10)                62730     \n",
      "                                                                 \n",
      "=================================================================\n",
      "Total params: 156,298\n",
      "Trainable params: 155,850\n",
      "Non-trainable params: 448\n",
      "_________________________________________________________________\n"
     ]
    }
   ],
   "source": [
    "model.summary()"
   ]
  },
  {
   "cell_type": "code",
   "execution_count": 10,
   "id": "cdce5dd1-0390-4ec7-aeb2-df2714ad5890",
   "metadata": {},
   "outputs": [],
   "source": [
    "model.compile(\n",
    "    loss = keras.losses.SparseCategoricalCrossentropy(from_logits=True),\n",
    "    optimizer = keras.optimizers.Adam(learning_rate=0.001),\n",
    "    metrics = ['accuracy']\n",
    ")"
   ]
  },
  {
   "cell_type": "code",
   "execution_count": 11,
   "id": "c6120206-b59b-4fdb-a3f3-3f592cc0358b",
   "metadata": {},
   "outputs": [
    {
     "name": "stdout",
     "output_type": "stream",
     "text": [
      "Epoch 1/5\n",
      "1875/1875 [==============================] - 31s 12ms/step - loss: 0.1081 - accuracy: 0.9681 - val_loss: 0.0696 - val_accuracy: 0.9797\n",
      "Epoch 2/5\n",
      "1875/1875 [==============================] - 21s 11ms/step - loss: 0.0453 - accuracy: 0.9865 - val_loss: 0.0591 - val_accuracy: 0.9836\n",
      "Epoch 3/5\n",
      "1875/1875 [==============================] - 21s 11ms/step - loss: 0.0302 - accuracy: 0.9907 - val_loss: 0.0425 - val_accuracy: 0.9859\n",
      "Epoch 4/5\n",
      "1875/1875 [==============================] - 21s 11ms/step - loss: 0.0225 - accuracy: 0.9923 - val_loss: 0.0440 - val_accuracy: 0.9886\n",
      "Epoch 5/5\n",
      "1875/1875 [==============================] - 20s 11ms/step - loss: 0.0183 - accuracy: 0.9942 - val_loss: 0.0347 - val_accuracy: 0.9905\n"
     ]
    },
    {
     "data": {
      "text/plain": [
       "<keras.callbacks.History at 0x1be3988df10>"
      ]
     },
     "execution_count": 11,
     "metadata": {},
     "output_type": "execute_result"
    }
   ],
   "source": [
    "model.fit(\n",
    "    X_train, y_train,\n",
    "    batch_size = 32,\n",
    "    epochs = 5,\n",
    "    validation_data = (X_test, y_test)\n",
    ")"
   ]
  },
  {
   "cell_type": "markdown",
   "id": "557d770d-2019-4589-93ab-8f215fdb738d",
   "metadata": {},
   "source": [
    "### Building Resnet"
   ]
  },
  {
   "cell_type": "code",
   "execution_count": 12,
   "id": "5d51dd1a-dad8-4f88-97fa-15d0f753395b",
   "metadata": {},
   "outputs": [],
   "source": [
    "class CNNBlock(layers.Layer):\n",
    "    def __init__(self, output_channels, kernel_size=3):\n",
    "        super(CNNBlock, self).__init__()\n",
    "        self.conv = layers.Conv2D(output_channels, kernel_size, padding='same')\n",
    "        self.bn = layers.BatchNormalization()\n",
    "\n",
    "    def call(self, input, training=False):\n",
    "        x = self.conv(input)\n",
    "        x = self.bn(x, training=training)\n",
    "        x = tf.keras.activations.relu(x)\n",
    "        return x"
   ]
  },
  {
   "cell_type": "code",
   "execution_count": 13,
   "id": "d057dd55-d59f-4426-890b-9d112dbebf37",
   "metadata": {},
   "outputs": [],
   "source": [
    "class ResBlock(layers.Layer):\n",
    "    def __init__(self, channels):\n",
    "        super(ResBlock, self).__init__()\n",
    "        self.channels = channels\n",
    "        self.cnn1 = CNNBlock(channels[0])\n",
    "        self.cnn2 = CNNBlock(channels[1])\n",
    "        self.cnn3 = CNNBlock(channels[2])\n",
    "        self.pooling = layers.MaxPooling2D()\n",
    "        self.identity_mapping = layers.Conv2D(channels[1], 1, padding='same')\n",
    "\n",
    "    def call(self, input_tensor, training=False):\n",
    "        x = self.cnn1(input_tensor, training=training)\n",
    "        x = self.cnn2(x, training=training)\n",
    "        x = self.cnn3(x + self.identity_mapping(input_tensor), training=training)\n",
    "        x = self.pooling(x)\n",
    "        return x"
   ]
  },
  {
   "cell_type": "code",
   "execution_count": 17,
   "id": "d792bfaf-97ac-4576-848e-9c7d965c5b6d",
   "metadata": {},
   "outputs": [],
   "source": [
    "class ResNet_Like(keras.Model):\n",
    "    def __init__(self, num_classes=10):\n",
    "        super(ResNet_Like, self).__init__()\n",
    "        self.block1 = ResBlock([32, 32, 64])\n",
    "        self.block2 = ResBlock([128, 128, 256])\n",
    "        self.block3 = ResBlock([128, 256, 512])\n",
    "        self.pool = layers.GlobalAveragePooling2D()\n",
    "        self.classifier = layers.Dense(num_classes)\n",
    "\n",
    "    def call(self, input_tensor, training=False):\n",
    "        x = self.block1(input_tensor, training=training)\n",
    "        x = self.block2(x, training=training)\n",
    "        x = self.block3(x, training=training)\n",
    "        x = self.pool(x, training=training)\n",
    "        x = self.classifier(x)\n",
    "        return x\n",
    "\n",
    "    def model(self):\n",
    "        x = keras.Input(shape=(28,28,1))\n",
    "        return keras.Model(inputs=[x], outputs=self.call(x))"
   ]
  },
  {
   "cell_type": "code",
   "execution_count": 18,
   "id": "b2ba1721-24ef-4cc4-9a32-f4fd8d4d127d",
   "metadata": {},
   "outputs": [],
   "source": [
    "model = ResNet_Like().model()"
   ]
  },
  {
   "cell_type": "code",
   "execution_count": 19,
   "id": "bd64cdcc-b11f-40ec-be36-737cc412f505",
   "metadata": {},
   "outputs": [
    {
     "name": "stdout",
     "output_type": "stream",
     "text": [
      "Model: \"model\"\n",
      "_________________________________________________________________\n",
      " Layer (type)                Output Shape              Param #   \n",
      "=================================================================\n",
      " input_3 (InputLayer)        [(None, 28, 28, 1)]       0         \n",
      "                                                                 \n",
      " res_block_3 (ResBlock)      (None, 14, 14, 64)        28640     \n",
      "                                                                 \n",
      " res_block_4 (ResBlock)      (None, 7, 7, 256)         526976    \n",
      "                                                                 \n",
      " res_block_5 (ResBlock)      (None, 3, 3, 512)         1839744   \n",
      "                                                                 \n",
      " global_average_pooling2d_1   (None, 512)              0         \n",
      " (GlobalAveragePooling2D)                                        \n",
      "                                                                 \n",
      " dense_2 (Dense)             (None, 10)                5130      \n",
      "                                                                 \n",
      "=================================================================\n",
      "Total params: 2,400,490\n",
      "Trainable params: 2,397,418\n",
      "Non-trainable params: 3,072\n",
      "_________________________________________________________________\n"
     ]
    }
   ],
   "source": [
    "model.summary()"
   ]
  },
  {
   "cell_type": "code",
   "execution_count": 20,
   "id": "67a5d8ed-3b50-4a90-9f4a-88f065a61262",
   "metadata": {},
   "outputs": [],
   "source": [
    "model.compile(\n",
    "    optimizer=keras.optimizers.Adam(),\n",
    "    loss=keras.losses.SparseCategoricalCrossentropy(from_logits=True),\n",
    "    metrics=[\"accuracy\"],\n",
    ")"
   ]
  },
  {
   "cell_type": "code",
   "execution_count": 21,
   "id": "c867d8a7-4398-457d-86e7-3da1cf85bfc7",
   "metadata": {},
   "outputs": [
    {
     "name": "stdout",
     "output_type": "stream",
     "text": [
      "Epoch 1/10\n",
      "1875/1875 [==============================] - 52s 26ms/step - loss: 0.1455 - accuracy: 0.9527 - val_loss: 0.0369 - val_accuracy: 0.9891\n",
      "Epoch 2/10\n",
      "1875/1875 [==============================] - 48s 26ms/step - loss: 0.0434 - accuracy: 0.9869 - val_loss: 0.0427 - val_accuracy: 0.9878\n",
      "Epoch 3/10\n",
      "1875/1875 [==============================] - 49s 26ms/step - loss: 0.0350 - accuracy: 0.9894 - val_loss: 0.0200 - val_accuracy: 0.9939\n",
      "Epoch 4/10\n",
      "1875/1875 [==============================] - 57s 30ms/step - loss: 0.0284 - accuracy: 0.9916 - val_loss: 0.0237 - val_accuracy: 0.9931\n",
      "Epoch 5/10\n",
      "1875/1875 [==============================] - 59s 32ms/step - loss: 0.0247 - accuracy: 0.9931 - val_loss: 0.0214 - val_accuracy: 0.9934\n",
      "Epoch 6/10\n",
      "1875/1875 [==============================] - 62s 33ms/step - loss: 0.0204 - accuracy: 0.9938 - val_loss: 0.0533 - val_accuracy: 0.9831\n",
      "Epoch 7/10\n",
      "1875/1875 [==============================] - 71s 38ms/step - loss: 0.0188 - accuracy: 0.9947 - val_loss: 0.0335 - val_accuracy: 0.9895\n",
      "Epoch 8/10\n",
      "1875/1875 [==============================] - 72s 38ms/step - loss: 0.0169 - accuracy: 0.9952 - val_loss: 0.0253 - val_accuracy: 0.9913\n",
      "Epoch 9/10\n",
      "1875/1875 [==============================] - 76s 41ms/step - loss: 0.0147 - accuracy: 0.9954 - val_loss: 0.0282 - val_accuracy: 0.9929\n",
      "Epoch 10/10\n",
      "1875/1875 [==============================] - 88s 47ms/step - loss: 0.0140 - accuracy: 0.9960 - val_loss: 0.0349 - val_accuracy: 0.9915\n"
     ]
    },
    {
     "data": {
      "text/plain": [
       "<keras.callbacks.History at 0x1bebfcff9a0>"
      ]
     },
     "execution_count": 21,
     "metadata": {},
     "output_type": "execute_result"
    }
   ],
   "source": [
    "model.fit(\n",
    "    X_train, y_train,\n",
    "    batch_size=32,\n",
    "    epochs=10,\n",
    "    validation_data=(X_test, y_test)\n",
    ")"
   ]
  },
  {
   "cell_type": "code",
   "execution_count": null,
   "id": "8db83f52-a905-47d4-97e6-8dca2b6a8d80",
   "metadata": {},
   "outputs": [],
   "source": []
  }
 ],
 "metadata": {
  "kernelspec": {
   "display_name": "Python 3 (ipykernel)",
   "language": "python",
   "name": "python3"
  },
  "language_info": {
   "codemirror_mode": {
    "name": "ipython",
    "version": 3
   },
   "file_extension": ".py",
   "mimetype": "text/x-python",
   "name": "python",
   "nbconvert_exporter": "python",
   "pygments_lexer": "ipython3",
   "version": "3.9.0"
  }
 },
 "nbformat": 4,
 "nbformat_minor": 5
}

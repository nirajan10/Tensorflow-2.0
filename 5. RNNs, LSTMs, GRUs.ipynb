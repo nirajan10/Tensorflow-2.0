{
 "cells": [
  {
   "cell_type": "code",
   "execution_count": 1,
   "id": "d6605443-551d-4203-89ad-e06568424ad3",
   "metadata": {},
   "outputs": [],
   "source": [
    "import os\n",
    "os.environ['TF_CPP_MIN_LOG_LEVEL'] = '2'"
   ]
  },
  {
   "cell_type": "code",
   "execution_count": 2,
   "id": "6ee1b6fe-565b-4122-a7e8-2f5d82156fbe",
   "metadata": {},
   "outputs": [],
   "source": [
    "import tensorflow as tf\n",
    "from tensorflow import keras\n",
    "from tensorflow.keras import layers\n",
    "from tensorflow.keras.datasets import mnist"
   ]
  },
  {
   "cell_type": "code",
   "execution_count": 4,
   "id": "66543244-7674-4578-93bd-f06a2e1367cf",
   "metadata": {},
   "outputs": [],
   "source": [
    "physical_devices = tf.config.list_physical_devices('GPU')\n",
    "tf.config.experimental.set_memory_growth(physical_devices[0], True)"
   ]
  },
  {
   "cell_type": "code",
   "execution_count": 5,
   "id": "e10e93aa-0097-4768-bc54-1c13f842baef",
   "metadata": {},
   "outputs": [],
   "source": [
    "(X_train, y_train), (X_test, y_test) = mnist.load_data()"
   ]
  },
  {
   "cell_type": "code",
   "execution_count": 6,
   "id": "784665b4-c98f-4df0-8f16-16556497932d",
   "metadata": {},
   "outputs": [],
   "source": [
    "X_train = X_train.astype('float32') / 255.0\n",
    "X_test = X_test.astype('float32') / 255.0"
   ]
  },
  {
   "cell_type": "code",
   "execution_count": 7,
   "id": "b0fa1ca1-c048-4cf6-a429-35467920c26c",
   "metadata": {},
   "outputs": [
    {
     "data": {
      "text/plain": [
       "(60000, 28, 28)"
      ]
     },
     "execution_count": 7,
     "metadata": {},
     "output_type": "execute_result"
    }
   ],
   "source": [
    "X_train.shape"
   ]
  },
  {
   "cell_type": "code",
   "execution_count": 9,
   "id": "70f6ba4b-6611-4cdc-a64e-9bc34ca0d400",
   "metadata": {},
   "outputs": [],
   "source": [
    "model = keras.Sequential()\n",
    "model.add(layers.Input(shape=(None, 28)))\n",
    "model.add(layers.SimpleRNN(256, return_sequences=True, activation='relu'))\n",
    "model.add(layers.SimpleRNN(256, activation='relu'))\n",
    "model.add(layers.Dense(10))"
   ]
  },
  {
   "cell_type": "code",
   "execution_count": 10,
   "id": "388b77c7-1aff-41a2-967a-41c0ee0e1dd4",
   "metadata": {},
   "outputs": [
    {
     "name": "stdout",
     "output_type": "stream",
     "text": [
      "Model: \"sequential_1\"\n",
      "_________________________________________________________________\n",
      " Layer (type)                Output Shape              Param #   \n",
      "=================================================================\n",
      " simple_rnn (SimpleRNN)      (None, None, 256)         72960     \n",
      "                                                                 \n",
      " simple_rnn_1 (SimpleRNN)    (None, 256)               131328    \n",
      "                                                                 \n",
      " dense (Dense)               (None, 10)                2570      \n",
      "                                                                 \n",
      "=================================================================\n",
      "Total params: 206,858\n",
      "Trainable params: 206,858\n",
      "Non-trainable params: 0\n",
      "_________________________________________________________________\n"
     ]
    }
   ],
   "source": [
    "model.summary()"
   ]
  },
  {
   "cell_type": "code",
   "execution_count": 11,
   "id": "0f83cc2d-9e16-4217-b633-527eb7fdd95e",
   "metadata": {},
   "outputs": [
    {
     "name": "stdout",
     "output_type": "stream",
     "text": [
      "Epoch 1/10\n",
      "1875/1875 [==============================] - 84s 43ms/step - loss: 0.3263 - accuracy: 0.9013 - val_loss: 0.1617 - val_accuracy: 0.9547\n",
      "Epoch 2/10\n",
      "1875/1875 [==============================] - 88s 47ms/step - loss: 0.1487 - accuracy: 0.9594 - val_loss: 0.1257 - val_accuracy: 0.9638\n",
      "Epoch 3/10\n",
      "1875/1875 [==============================] - 86s 46ms/step - loss: 0.1218 - accuracy: 0.9668 - val_loss: 0.1168 - val_accuracy: 0.9713\n",
      "Epoch 4/10\n",
      "1875/1875 [==============================] - 89s 48ms/step - loss: 0.1101 - accuracy: 0.9704 - val_loss: 0.0992 - val_accuracy: 0.9733\n",
      "Epoch 5/10\n",
      "1875/1875 [==============================] - 87s 47ms/step - loss: 0.1012 - accuracy: 0.9721 - val_loss: 0.1074 - val_accuracy: 0.9720\n",
      "Epoch 6/10\n",
      "1875/1875 [==============================] - 92s 49ms/step - loss: 0.0923 - accuracy: 0.9749 - val_loss: 0.0805 - val_accuracy: 0.9812\n",
      "Epoch 7/10\n",
      "1875/1875 [==============================] - 92s 49ms/step - loss: 0.0908 - accuracy: 0.9748 - val_loss: 0.1047 - val_accuracy: 0.9710\n",
      "Epoch 8/10\n",
      "1875/1875 [==============================] - 92s 49ms/step - loss: 0.0898 - accuracy: 0.9757 - val_loss: 0.0921 - val_accuracy: 0.9729\n",
      "Epoch 9/10\n",
      "1875/1875 [==============================] - 92s 49ms/step - loss: 0.0747 - accuracy: 0.9797 - val_loss: 0.1196 - val_accuracy: 0.9681\n",
      "Epoch 10/10\n",
      "1875/1875 [==============================] - 93s 49ms/step - loss: 0.0774 - accuracy: 0.9787 - val_loss: 0.0937 - val_accuracy: 0.9749\n"
     ]
    }
   ],
   "source": [
    "model.compile(\n",
    "    loss = keras.losses.SparseCategoricalCrossentropy(from_logits=True),\n",
    "    optimizer = keras.optimizers.Adam(learning_rate=0.001),\n",
    "    metrics = ['accuracy']\n",
    ")\n",
    "\n",
    "r = model.fit(\n",
    "    X_train, y_train,\n",
    "    batch_size = 32,\n",
    "    epochs = 10,\n",
    "    validation_data = (X_test, y_test)\n",
    ")"
   ]
  },
  {
   "cell_type": "markdown",
   "id": "ef644292-0812-4e28-8111-aea844410009",
   "metadata": {},
   "source": [
    "**Note:** GRU is same implementation as SimpleRNN. Also default activation function for RNN is 'tanh'. Also LSTM and Bidirectional are almost similar. For detail goto NLP course."
   ]
  },
  {
   "cell_type": "code",
   "execution_count": null,
   "id": "93ea2095-84bd-4c7d-a57b-358e9fdc5923",
   "metadata": {},
   "outputs": [],
   "source": []
  }
 ],
 "metadata": {
  "kernelspec": {
   "display_name": "Python 3 (ipykernel)",
   "language": "python",
   "name": "python3"
  },
  "language_info": {
   "codemirror_mode": {
    "name": "ipython",
    "version": 3
   },
   "file_extension": ".py",
   "mimetype": "text/x-python",
   "name": "python",
   "nbconvert_exporter": "python",
   "pygments_lexer": "ipython3",
   "version": "3.9.0"
  }
 },
 "nbformat": 4,
 "nbformat_minor": 5
}

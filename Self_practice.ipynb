{
 "cells": [
  {
   "cell_type": "code",
   "execution_count": 1,
   "id": "397b4ac8-2588-4103-b359-97036c191c57",
   "metadata": {},
   "outputs": [],
   "source": [
    "import os\n",
    "os.environ['TF_CPP_MIN_LOG_LEVEL'] = '2'"
   ]
  },
  {
   "cell_type": "code",
   "execution_count": 2,
   "id": "dbe459ca-0577-44d1-97c5-72921f60a249",
   "metadata": {},
   "outputs": [],
   "source": [
    "import tensorflow as tf\n",
    "from tensorflow import keras\n",
    "from tensorflow.keras import layers\n",
    "from tensorflow.keras.datasets import mnist"
   ]
  },
  {
   "cell_type": "code",
   "execution_count": 3,
   "id": "3986fd62-7f10-4845-b294-c6e848613b2e",
   "metadata": {},
   "outputs": [],
   "source": [
    "physical_devices = tf.config.list_physical_devices('GPU')\n",
    "tf.config.experimental.set_memory_growth(physical_devices[0], True)"
   ]
  },
  {
   "cell_type": "code",
   "execution_count": 4,
   "id": "6986095b-2905-4709-82b6-a2b0a19f4fa3",
   "metadata": {},
   "outputs": [],
   "source": [
    "(X_train, y_train), (X_test, y_test) = mnist.load_data()"
   ]
  },
  {
   "cell_type": "code",
   "execution_count": 5,
   "id": "c0c45300-c8e4-46f3-963d-21c6d3a91e4a",
   "metadata": {},
   "outputs": [],
   "source": [
    "mean = X_train.mean()\n",
    "std = X_train.std()"
   ]
  },
  {
   "cell_type": "code",
   "execution_count": 6,
   "id": "206efc62-c25c-42d1-bb88-54ec7225cdfa",
   "metadata": {},
   "outputs": [
    {
     "data": {
      "text/plain": [
       "(33.318421449829934, 78.56748998339798)"
      ]
     },
     "execution_count": 6,
     "metadata": {},
     "output_type": "execute_result"
    }
   ],
   "source": [
    "mean, std"
   ]
  },
  {
   "cell_type": "code",
   "execution_count": 7,
   "id": "3e759f5d-469f-47b1-9fe6-d3340dc549fa",
   "metadata": {},
   "outputs": [],
   "source": [
    "X_train = (X_train.astype('float32') - mean) / std\n",
    "X_test = (X_test.astype('float32') - mean) / std"
   ]
  },
  {
   "cell_type": "markdown",
   "id": "08fc80e6-49a2-4c0e-b621-96416e7f081d",
   "metadata": {},
   "source": [
    "#### Building model"
   ]
  },
  {
   "cell_type": "code",
   "execution_count": 8,
   "id": "35fee537-521a-41d4-8b09-943e85d8af04",
   "metadata": {},
   "outputs": [],
   "source": [
    "class ConvBlock(layers.Layer):\n",
    "    def __init__(self, out_channels, kernel=3):\n",
    "        super(ConvBlock, self).__init__()\n",
    "        self.conv = layers.Conv2D(out_channels, kernel, padding='same')\n",
    "        self.bn = layers.BatchNormalization()\n",
    "\n",
    "    def call(self, input_tensor, training=False):\n",
    "        x = self.conv(input_tensor, training=False)\n",
    "        x = self.bn(x, training=training)\n",
    "        x = keras.activations.relu(x)\n",
    "        return x"
   ]
  },
  {
   "cell_type": "code",
   "execution_count": 9,
   "id": "2ee103f1-b1db-4a6b-b252-e13718d2e023",
   "metadata": {},
   "outputs": [],
   "source": [
    "class ResBlock(layers.Layer):\n",
    "    def __init__(self, channels):\n",
    "        super(ResBlock, self).__init__()\n",
    "        self.channels = channels\n",
    "        self.cnn1 = ConvBlock(channels[0])\n",
    "        self.cnn2 = ConvBlock(channels[1])\n",
    "        self.cnn3 = ConvBlock(channels[2])\n",
    "        self.identity_mapping = layers.Conv2D(channels[0], 1, padding='same')\n",
    "        self.pooling = layers.MaxPooling2D()\n",
    "\n",
    "    def call(self, input_tensor, training=False):\n",
    "        x = self.cnn1(input_tensor, training=training)\n",
    "        x = self.cnn2(x, training=training)\n",
    "        x = self.cnn3(x + self.identity_mapping(input_tensor), training=training)\n",
    "        x = self.pooling(x)\n",
    "        return x"
   ]
  },
  {
   "cell_type": "code",
   "execution_count": 10,
   "id": "1d3fa7ed-aa72-4439-b82c-8dd021177563",
   "metadata": {},
   "outputs": [],
   "source": [
    "class Resnet_like(keras.Model):\n",
    "    def __init__(self, num_classes=10):\n",
    "        super(Resnet_like, self).__init__()\n",
    "        self.block1 = ResBlock([32,32,64])\n",
    "        self.block2 = ResBlock([128,128,256])\n",
    "        self.block3 = ResBlock([256,256,512])\n",
    "        self.pool = layers.GlobalAveragePooling2D()\n",
    "        self.fn = layers.Dense(num_classes)\n",
    "\n",
    "    def call(self, input_tensor, training=False):\n",
    "        x = self.block1(input_tensor, training=training)\n",
    "        x = self.block2(x, training=training)\n",
    "        x = self.block3(x, training=training)\n",
    "        x = self.pool(x, training=training)\n",
    "        x = self.fn(x)\n",
    "        return x\n",
    "\n",
    "    def model(self):\n",
    "        x = keras.Input(shape=(28,28,1))\n",
    "        return keras.Model(inputs=[x], outputs=self.call(x))"
   ]
  },
  {
   "cell_type": "code",
   "execution_count": 11,
   "id": "9befcfb3-3ceb-41b2-9e6a-b301394232a3",
   "metadata": {},
   "outputs": [],
   "source": [
    "model = Resnet_like().model()"
   ]
  },
  {
   "cell_type": "code",
   "execution_count": 12,
   "id": "b8669892-d793-454c-bf81-a0197b0f929a",
   "metadata": {},
   "outputs": [
    {
     "name": "stdout",
     "output_type": "stream",
     "text": [
      "Model: \"model\"\n",
      "_________________________________________________________________\n",
      " Layer (type)                Output Shape              Param #   \n",
      "=================================================================\n",
      " input_1 (InputLayer)        [(None, 28, 28, 1)]       0         \n",
      "                                                                 \n",
      " res_block (ResBlock)        (None, 14, 14, 64)        28640     \n",
      "                                                                 \n",
      " res_block_1 (ResBlock)      (None, 7, 7, 256)         526976    \n",
      "                                                                 \n",
      " res_block_2 (ResBlock)      (None, 3, 3, 512)         2430208   \n",
      "                                                                 \n",
      " global_average_pooling2d (G  (None, 512)              0         \n",
      " lobalAveragePooling2D)                                          \n",
      "                                                                 \n",
      " dense (Dense)               (None, 10)                5130      \n",
      "                                                                 \n",
      "=================================================================\n",
      "Total params: 2,990,954\n",
      "Trainable params: 2,987,626\n",
      "Non-trainable params: 3,328\n",
      "_________________________________________________________________\n"
     ]
    }
   ],
   "source": [
    "model.summary()"
   ]
  },
  {
   "cell_type": "code",
   "execution_count": 13,
   "id": "5b8a9123-93c1-407c-9012-34b6912b5281",
   "metadata": {},
   "outputs": [],
   "source": [
    "model.compile(\n",
    "    loss = keras.losses.SparseCategoricalCrossentropy(from_logits=True),\n",
    "    optimizer = keras.optimizers.Adam(learning_rate=0.001),\n",
    "    metrics = ['accuracy']\n",
    ")"
   ]
  },
  {
   "cell_type": "code",
   "execution_count": 14,
   "id": "49949ef8-f016-49a6-a06a-1752ced4f904",
   "metadata": {},
   "outputs": [
    {
     "name": "stdout",
     "output_type": "stream",
     "text": [
      "Epoch 1/3\n",
      "1875/1875 [==============================] - 52s 25ms/step - loss: 0.1308 - accuracy: 0.9587 - val_loss: 0.0571 - val_accuracy: 0.9805\n",
      "Epoch 2/3\n",
      "1875/1875 [==============================] - 47s 25ms/step - loss: 0.0459 - accuracy: 0.9864 - val_loss: 0.0331 - val_accuracy: 0.9895\n",
      "Epoch 3/3\n",
      "1875/1875 [==============================] - 54s 29ms/step - loss: 0.0330 - accuracy: 0.9896 - val_loss: 0.0447 - val_accuracy: 0.9875\n"
     ]
    },
    {
     "data": {
      "text/plain": [
       "<keras.callbacks.History at 0x169ad79b340>"
      ]
     },
     "execution_count": 14,
     "metadata": {},
     "output_type": "execute_result"
    }
   ],
   "source": [
    "model.fit(\n",
    "    X_train, y_train,\n",
    "    batch_size = 32,\n",
    "    epochs = 3, \n",
    "    validation_data=(X_test, y_test)\n",
    ")"
   ]
  }
 ],
 "metadata": {
  "kernelspec": {
   "display_name": "Python 3 (ipykernel)",
   "language": "python",
   "name": "python3"
  },
  "language_info": {
   "codemirror_mode": {
    "name": "ipython",
    "version": 3
   },
   "file_extension": ".py",
   "mimetype": "text/x-python",
   "name": "python",
   "nbconvert_exporter": "python",
   "pygments_lexer": "ipython3",
   "version": "3.9.0"
  }
 },
 "nbformat": 4,
 "nbformat_minor": 5
}

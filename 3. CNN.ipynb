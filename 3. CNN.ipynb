{
 "cells": [
  {
   "cell_type": "code",
   "execution_count": 1,
   "id": "e9e1fb0b-1e5d-4de2-b711-d8f946bd0674",
   "metadata": {},
   "outputs": [],
   "source": [
    "import os\n",
    "os.environ['TF_CPP_MIN_LOG_LEVEL'] = '2'"
   ]
  },
  {
   "cell_type": "code",
   "execution_count": 2,
   "id": "0c8b6949-9e4b-4b45-9332-64cdf6e28442",
   "metadata": {},
   "outputs": [],
   "source": [
    "import tensorflow as tf\n",
    "from tensorflow import keras\n",
    "from tensorflow.keras import layers\n",
    "from tensorflow.keras.datasets import cifar10"
   ]
  },
  {
   "cell_type": "code",
   "execution_count": 3,
   "id": "0635d205-fa3e-4b3c-9ba8-04be49e3ae58",
   "metadata": {},
   "outputs": [],
   "source": [
    "physical_devices = tf.config.list_physical_devices('GPU')\n",
    "tf.config.experimental.set_memory_growth(physical_devices[0], True)"
   ]
  },
  {
   "cell_type": "markdown",
   "id": "59ad2435-2934-4874-9840-cd3578f29282",
   "metadata": {},
   "source": [
    "#### Sequential API"
   ]
  },
  {
   "cell_type": "code",
   "execution_count": 4,
   "id": "ad406285-799b-49c4-ac27-695d3af9982e",
   "metadata": {},
   "outputs": [],
   "source": [
    "(X_train, y_train), (X_test, y_test) = cifar10.load_data()"
   ]
  },
  {
   "cell_type": "code",
   "execution_count": 5,
   "id": "6c729e54-dcf3-4f24-9d50-d1956cf55d92",
   "metadata": {},
   "outputs": [],
   "source": [
    "X_train = X_train.astype('float32') / 255.0\n",
    "X_test = X_test.astype('float32') / 255.0"
   ]
  },
  {
   "cell_type": "code",
   "execution_count": 6,
   "id": "3938b5b2-8845-4e62-a2c9-311026a5d0be",
   "metadata": {},
   "outputs": [],
   "source": [
    "model = keras.Sequential(\n",
    "    [\n",
    "        layers.Input(shape=(32,32,3)),\n",
    "        layers.Conv2D(32, 3, padding='same', activation='relu'),\n",
    "        layers.MaxPooling2D(pool_size = (2,2)),\n",
    "        layers.Conv2D(64, 3, padding='same', activation='relu'),\n",
    "        layers.MaxPooling2D(),\n",
    "        layers.Conv2D(128, 3, padding='same', activation='relu'),\n",
    "        layers.Flatten(),\n",
    "        layers.Dense(64, activation='relu'),\n",
    "        layers.Dense(10)\n",
    "    ]\n",
    ")"
   ]
  },
  {
   "cell_type": "code",
   "execution_count": 7,
   "id": "e807d4e8-cc53-4bf7-b3bb-1688ff157941",
   "metadata": {},
   "outputs": [
    {
     "name": "stdout",
     "output_type": "stream",
     "text": [
      "Model: \"sequential\"\n",
      "_________________________________________________________________\n",
      " Layer (type)                Output Shape              Param #   \n",
      "=================================================================\n",
      " conv2d (Conv2D)             (None, 32, 32, 32)        896       \n",
      "                                                                 \n",
      " max_pooling2d (MaxPooling2D  (None, 16, 16, 32)       0         \n",
      " )                                                               \n",
      "                                                                 \n",
      " conv2d_1 (Conv2D)           (None, 16, 16, 64)        18496     \n",
      "                                                                 \n",
      " max_pooling2d_1 (MaxPooling  (None, 8, 8, 64)         0         \n",
      " 2D)                                                             \n",
      "                                                                 \n",
      " conv2d_2 (Conv2D)           (None, 8, 8, 128)         73856     \n",
      "                                                                 \n",
      " flatten (Flatten)           (None, 8192)              0         \n",
      "                                                                 \n",
      " dense (Dense)               (None, 64)                524352    \n",
      "                                                                 \n",
      " dense_1 (Dense)             (None, 10)                650       \n",
      "                                                                 \n",
      "=================================================================\n",
      "Total params: 618,250\n",
      "Trainable params: 618,250\n",
      "Non-trainable params: 0\n",
      "_________________________________________________________________\n"
     ]
    }
   ],
   "source": [
    "model.summary()"
   ]
  },
  {
   "cell_type": "code",
   "execution_count": 8,
   "id": "36bbd9bc-b2ec-487b-a355-be5a30ee0352",
   "metadata": {},
   "outputs": [
    {
     "name": "stdout",
     "output_type": "stream",
     "text": [
      "Epoch 1/10\n",
      "1563/1563 [==============================] - 15s 7ms/step - loss: 1.3949 - accuracy: 0.4977 - val_loss: 1.1091 - val_accuracy: 0.6055\n",
      "Epoch 2/10\n",
      "1563/1563 [==============================] - 10s 6ms/step - loss: 0.9753 - accuracy: 0.6588 - val_loss: 0.9087 - val_accuracy: 0.6835\n",
      "Epoch 3/10\n",
      "1563/1563 [==============================] - 10s 6ms/step - loss: 0.7986 - accuracy: 0.7211 - val_loss: 0.8351 - val_accuracy: 0.7085\n",
      "Epoch 4/10\n",
      "1563/1563 [==============================] - 11s 7ms/step - loss: 0.6900 - accuracy: 0.7606 - val_loss: 0.7968 - val_accuracy: 0.7269\n",
      "Epoch 5/10\n",
      "1563/1563 [==============================] - 12s 8ms/step - loss: 0.5904 - accuracy: 0.7932 - val_loss: 0.8098 - val_accuracy: 0.7338\n",
      "Epoch 6/10\n",
      "1563/1563 [==============================] - 12s 8ms/step - loss: 0.5117 - accuracy: 0.8216 - val_loss: 0.7901 - val_accuracy: 0.7377\n",
      "Epoch 7/10\n",
      "1563/1563 [==============================] - 12s 8ms/step - loss: 0.4322 - accuracy: 0.8488 - val_loss: 0.8942 - val_accuracy: 0.7264\n",
      "Epoch 8/10\n",
      "1563/1563 [==============================] - 13s 8ms/step - loss: 0.3638 - accuracy: 0.8714 - val_loss: 0.8943 - val_accuracy: 0.7304\n",
      "Epoch 9/10\n",
      "1563/1563 [==============================] - 13s 9ms/step - loss: 0.3021 - accuracy: 0.8935 - val_loss: 1.0699 - val_accuracy: 0.7099\n",
      "Epoch 10/10\n",
      "1563/1563 [==============================] - 14s 9ms/step - loss: 0.2593 - accuracy: 0.9071 - val_loss: 1.1299 - val_accuracy: 0.7151\n"
     ]
    }
   ],
   "source": [
    "model.compile(\n",
    "    loss = keras.losses.SparseCategoricalCrossentropy(from_logits=True),\n",
    "    optimizer = keras.optimizers.Adam(learning_rate=0.001),\n",
    "    metrics = ['accuracy']\n",
    ")\n",
    "\n",
    "r = model.fit(\n",
    "    X_train, y_train,\n",
    "    batch_size = 32,\n",
    "    epochs = 10,\n",
    "    validation_data=(X_test, y_test)\n",
    ")"
   ]
  },
  {
   "cell_type": "markdown",
   "id": "e59190f8-1d0b-43b1-85f8-7482d1df4ad2",
   "metadata": {},
   "source": [
    "#### Functional API"
   ]
  },
  {
   "cell_type": "code",
   "execution_count": 9,
   "id": "2001d790-177a-4abb-8541-25e16bf1d9fa",
   "metadata": {},
   "outputs": [],
   "source": [
    "def my_model():\n",
    "    inputs = layers.Input((32,32,3))\n",
    "    x = layers.Conv2D(32, 3, padding='same')(inputs)\n",
    "    x = layers.BatchNormalization()(x)\n",
    "    x = layers.Activation('relu')(x)\n",
    "    x = layers.MaxPooling2D()(x)\n",
    "    x = layers.Dropout(0.3)(x)\n",
    "    x = layers.Conv2D(64, 3, padding='same')(x)\n",
    "    x = layers.BatchNormalization()(x)\n",
    "    x = layers.Activation('relu')(x)\n",
    "    x = layers.MaxPooling2D()(x)\n",
    "    x = layers.Dropout(0.3)(x)\n",
    "    x = layers.Conv2D(128, 5, padding='same')(x)\n",
    "    x = layers.BatchNormalization()(x)\n",
    "    x = layers.Activation('relu')(x)\n",
    "    x = layers.Flatten()(x)\n",
    "    x = layers.Dense(64, use_bias=False)(x)\n",
    "    x = layers.BatchNormalization()(x)\n",
    "    x = layers.Activation('relu')(x)\n",
    "    outputs = layers.Dense(10)(x)\n",
    "    model = keras.Model(inputs, outputs)\n",
    "    return model"
   ]
  },
  {
   "cell_type": "code",
   "execution_count": 10,
   "id": "403c88e4-6ecf-42ca-83e4-a18e9c4c0577",
   "metadata": {},
   "outputs": [],
   "source": [
    "model = my_model()"
   ]
  },
  {
   "cell_type": "code",
   "execution_count": 11,
   "id": "72fc1d10-c8ce-4947-8bdc-2103df079a07",
   "metadata": {},
   "outputs": [
    {
     "name": "stdout",
     "output_type": "stream",
     "text": [
      "Model: \"model\"\n",
      "_________________________________________________________________\n",
      " Layer (type)                Output Shape              Param #   \n",
      "=================================================================\n",
      " input_2 (InputLayer)        [(None, 32, 32, 3)]       0         \n",
      "                                                                 \n",
      " conv2d_3 (Conv2D)           (None, 32, 32, 32)        896       \n",
      "                                                                 \n",
      " batch_normalization (BatchN  (None, 32, 32, 32)       128       \n",
      " ormalization)                                                   \n",
      "                                                                 \n",
      " activation (Activation)     (None, 32, 32, 32)        0         \n",
      "                                                                 \n",
      " max_pooling2d_2 (MaxPooling  (None, 16, 16, 32)       0         \n",
      " 2D)                                                             \n",
      "                                                                 \n",
      " dropout (Dropout)           (None, 16, 16, 32)        0         \n",
      "                                                                 \n",
      " conv2d_4 (Conv2D)           (None, 16, 16, 64)        18496     \n",
      "                                                                 \n",
      " batch_normalization_1 (Batc  (None, 16, 16, 64)       256       \n",
      " hNormalization)                                                 \n",
      "                                                                 \n",
      " activation_1 (Activation)   (None, 16, 16, 64)        0         \n",
      "                                                                 \n",
      " max_pooling2d_3 (MaxPooling  (None, 8, 8, 64)         0         \n",
      " 2D)                                                             \n",
      "                                                                 \n",
      " dropout_1 (Dropout)         (None, 8, 8, 64)          0         \n",
      "                                                                 \n",
      " conv2d_5 (Conv2D)           (None, 8, 8, 128)         204928    \n",
      "                                                                 \n",
      " batch_normalization_2 (Batc  (None, 8, 8, 128)        512       \n",
      " hNormalization)                                                 \n",
      "                                                                 \n",
      " activation_2 (Activation)   (None, 8, 8, 128)         0         \n",
      "                                                                 \n",
      " flatten_1 (Flatten)         (None, 8192)              0         \n",
      "                                                                 \n",
      " dense_2 (Dense)             (None, 64)                524288    \n",
      "                                                                 \n",
      " batch_normalization_3 (Batc  (None, 64)               256       \n",
      " hNormalization)                                                 \n",
      "                                                                 \n",
      " activation_3 (Activation)   (None, 64)                0         \n",
      "                                                                 \n",
      " dense_3 (Dense)             (None, 10)                650       \n",
      "                                                                 \n",
      "=================================================================\n",
      "Total params: 750,410\n",
      "Trainable params: 749,834\n",
      "Non-trainable params: 576\n",
      "_________________________________________________________________\n"
     ]
    }
   ],
   "source": [
    "model.summary()"
   ]
  },
  {
   "cell_type": "code",
   "execution_count": 12,
   "id": "bb7d8498-a78c-4c86-a0b7-80741f79df05",
   "metadata": {},
   "outputs": [
    {
     "name": "stdout",
     "output_type": "stream",
     "text": [
      "Epoch 1/10\n",
      "1563/1563 [==============================] - 24s 15ms/step - loss: 1.2806 - accuracy: 0.5441 - val_loss: 1.1475 - val_accuracy: 0.5930\n",
      "Epoch 2/10\n",
      "1563/1563 [==============================] - 25s 16ms/step - loss: 0.9482 - accuracy: 0.6669 - val_loss: 1.3588 - val_accuracy: 0.5496\n",
      "Epoch 3/10\n",
      "1563/1563 [==============================] - 27s 18ms/step - loss: 0.8127 - accuracy: 0.7153 - val_loss: 1.4177 - val_accuracy: 0.5516\n",
      "Epoch 4/10\n",
      "1563/1563 [==============================] - 38s 25ms/step - loss: 0.7269 - accuracy: 0.7462 - val_loss: 0.8599 - val_accuracy: 0.7032\n",
      "Epoch 5/10\n",
      "1563/1563 [==============================] - 35s 22ms/step - loss: 0.6541 - accuracy: 0.7697 - val_loss: 1.1602 - val_accuracy: 0.6405\n",
      "Epoch 6/10\n",
      "1563/1563 [==============================] - 34s 22ms/step - loss: 0.5971 - accuracy: 0.7895 - val_loss: 0.7762 - val_accuracy: 0.7380\n",
      "Epoch 7/10\n",
      "1563/1563 [==============================] - 48s 31ms/step - loss: 0.5359 - accuracy: 0.8133 - val_loss: 0.9430 - val_accuracy: 0.7007\n",
      "Epoch 8/10\n",
      "1563/1563 [==============================] - 57s 37ms/step - loss: 0.4900 - accuracy: 0.8262 - val_loss: 0.7979 - val_accuracy: 0.7390\n",
      "Epoch 9/10\n",
      "1563/1563 [==============================] - 56s 36ms/step - loss: 0.4460 - accuracy: 0.8427 - val_loss: 1.2993 - val_accuracy: 0.6366\n",
      "Epoch 10/10\n",
      "1563/1563 [==============================] - 57s 37ms/step - loss: 0.4122 - accuracy: 0.8552 - val_loss: 0.9481 - val_accuracy: 0.7172\n"
     ]
    }
   ],
   "source": [
    "model.compile(\n",
    "    loss = keras.losses.SparseCategoricalCrossentropy(from_logits=True),\n",
    "    optimizer = keras.optimizers.Adam(learning_rate=0.001),\n",
    "    metrics = ['accuracy']\n",
    ")\n",
    "\n",
    "r = model.fit(\n",
    "    X_train, y_train,\n",
    "    batch_size = 32,\n",
    "    epochs = 10,\n",
    "    validation_data=(X_test, y_test)\n",
    ")"
   ]
  },
  {
   "cell_type": "code",
   "execution_count": null,
   "id": "c92487a5-8e99-4fbc-8c0b-461f9bbc5dd2",
   "metadata": {},
   "outputs": [],
   "source": []
  }
 ],
 "metadata": {
  "kernelspec": {
   "display_name": "Python 3 (ipykernel)",
   "language": "python",
   "name": "python3"
  },
  "language_info": {
   "codemirror_mode": {
    "name": "ipython",
    "version": 3
   },
   "file_extension": ".py",
   "mimetype": "text/x-python",
   "name": "python",
   "nbconvert_exporter": "python",
   "pygments_lexer": "ipython3",
   "version": "3.9.0"
  }
 },
 "nbformat": 4,
 "nbformat_minor": 5
}
